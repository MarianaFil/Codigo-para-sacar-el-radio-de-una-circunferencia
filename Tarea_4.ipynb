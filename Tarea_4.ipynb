{
  "nbformat": 4,
  "nbformat_minor": 0,
  "metadata": {
    "colab": {
      "name": "Untitled4.ipynb",
      "provenance": []
    },
    "kernelspec": {
      "name": "python3",
      "display_name": "Python 3"
    },
    "language_info": {
      "name": "python"
    }
  },
  "cells": [
    {
      "cell_type": "code",
      "metadata": {
        "colab": {
          "base_uri": "https://localhost:8080/"
        },
        "id": "t0M3W57x51jS",
        "outputId": "cb1b7774-fb80-4a06-b1da-53b96914a737"
      },
      "source": [
        "import math\n",
        "a=int(input('Ingrese el valor de a'))\n",
        "b=int(input('Ingrese el valor de b'))\n",
        "c=int(input('Ingrese el valor de c'))\n",
        "\n",
        "r=(b*b)-4*a*c\n",
        "s=2*a\n",
        "if r<0:\n",
        "  print('la ecuacion no tiene soluciones reales, pero en sus valores negativos son:')\n",
        "else:\n",
        "  x=-b+math.sqrt(r)/s\n",
        "  xx=-b-math.sqrt(r)/s\n",
        "print('La soluciones son:', 'x1=', x, 'x2=', xx)\n"
      ],
      "execution_count": 12,
      "outputs": [
        {
          "output_type": "stream",
          "name": "stdout",
          "text": [
            "Ingrese el valor de a2\n",
            "Ingrese el valor de b2\n",
            "Ingrese el valor de c2\n",
            "la ecuacion no tiene soluciones reales, pero en sus valores negativos son:\n",
            "La soluciones son: x1= -5.591673086804016 x2= -16.408326913195985\n"
          ]
        }
      ]
    }
  ]
}